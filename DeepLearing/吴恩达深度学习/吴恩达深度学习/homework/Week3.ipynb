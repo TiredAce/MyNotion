{
 "cells": [
  {
   "cell_type": "code",
   "execution_count": 2,
   "id": "ef9fd905",
   "metadata": {},
   "outputs": [],
   "source": [
    "import numpy as np"
   ]
  },
  {
   "cell_type": "code",
   "execution_count": 5,
   "id": "8db11183",
   "metadata": {},
   "outputs": [
    {
     "name": "stdout",
     "output_type": "stream",
     "text": [
      "(4, 1)\n",
      "(4,)\n"
     ]
    }
   ],
   "source": [
    "# 5. 看以下代码 B.shape会是什么\n",
    "A = np.random.randn(4, 3)\n",
    "B = np.sum(A, axis = 1, keepdims = True)\n",
    "print(B.shape)\n",
    "\n",
    "B = np.sum(A, axis = 1, keepdims = False)\n",
    "print(B.shape)\n",
    "# 如果将keepdims设置成false，那儿么生成的矩阵是(4,)这样会\n",
    "# 影响广播功能。将它设置为True能让我们的代码更加严格"
   ]
  },
  {
   "cell_type": "code",
   "execution_count": null,
   "id": "ee8e0c67",
   "metadata": {},
   "outputs": [],
   "source": []
  }
 ],
 "metadata": {
  "kernelspec": {
   "display_name": "Python 3 (ipykernel)",
   "language": "python",
   "name": "python3"
  },
  "language_info": {
   "codemirror_mode": {
    "name": "ipython",
    "version": 3
   },
   "file_extension": ".py",
   "mimetype": "text/x-python",
   "name": "python",
   "nbconvert_exporter": "python",
   "pygments_lexer": "ipython3",
   "version": "3.9.12"
  }
 },
 "nbformat": 4,
 "nbformat_minor": 5
}
