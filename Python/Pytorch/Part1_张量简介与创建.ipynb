{
 "cells": [
  {
   "attachments": {},
   "cell_type": "markdown",
   "metadata": {},
   "source": [
    "## 张量是什么 ？\n",
    "\n",
    " 张量是一个多维数组，它是标量、向量、矩阵的高维拓展"
   ]
  },
  {
   "attachments": {},
   "cell_type": "markdown",
   "metadata": {},
   "source": [
    "## Tensor 与 Variable\n",
    "\n",
    "`Variable`是`torch.autograd.Variable`中的数据类型，主要用于封装`Tensor`，进行自动求导。\n",
    "\n",
    "* data: 被包装的Tensor\n",
    "* grad：data的梯度\n",
    "* grad_fn：创建Tensor的Function，是自动求导的关键\n",
    "* requires_grad：指示是否需要梯度\n",
    "* is_leaf：指示是否是叶子系结点\n",
    "\n",
    "`Pytorch 0.4.0`开始，`Varoable`并入`Tensor`。\n",
    "* dtype: 张量的数据类型\n",
    "* shape：张量的形状\n",
    "* device：张量所在的设备，是加速的关键"
   ]
  },
  {
   "attachments": {},
   "cell_type": "markdown",
   "metadata": {},
   "source": [
    "## 张量的创建"
   ]
  },
  {
   "cell_type": "code",
   "execution_count": null,
   "metadata": {},
   "outputs": [],
   "source": [
    "import torch\n",
    "import numpy as np\n",
    "\n",
    "# 1. 直接创建， 从data中创建tensor"
   ]
  }
 ],
 "metadata": {
  "kernelspec": {
   "display_name": "pytorch",
   "language": "python",
   "name": "python3"
  },
  "language_info": {
   "name": "python",
   "version": "3.9.16"
  },
  "orig_nbformat": 4
 },
 "nbformat": 4,
 "nbformat_minor": 2
}
