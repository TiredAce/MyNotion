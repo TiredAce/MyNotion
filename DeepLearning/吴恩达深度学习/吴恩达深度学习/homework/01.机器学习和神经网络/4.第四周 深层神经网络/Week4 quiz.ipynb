{
 "cells": [
  {
   "cell_type": "markdown",
   "id": "bc243b01",
   "metadata": {},
   "source": [
    "## Week4 quiz"
   ]
  },
  {
   "cell_type": "markdown",
   "id": "ee7747e2",
   "metadata": {},
   "source": [
    "1. 实现前向传播和反向传播中使用的\"cache\"是什么？\n",
    "\n",
    "Answer: \"cache\"记录来自正向传播单元的值并将其发\n",
    "      送到反向传播单元，因为需要链式计算导数。"
   ]
  },
  {
   "cell_type": "code",
   "execution_count": null,
   "id": "ed785f42",
   "metadata": {},
   "outputs": [],
   "source": [
    "# 5. layer_dims = [nx, 4, 3, 2, 1].因此，第一层有4个隐藏单元，\n",
    "# 第二层有3个隐藏单元，以此类推。可以使用那个for循环初始化模型参数\n",
    "\n",
    "for i in range(1, len(layer_dims)):\n",
    "    parameter['w' + str(i)] = np.random.randn(layers[i], layers[i - 1]) * 0.01\n",
    "    parameter['b' + str(i)] = np.random.randn(layers[i], 1) * 0.01"
   ]
  }
 ],
 "metadata": {
  "kernelspec": {
   "display_name": "Python 3 (ipykernel)",
   "language": "python",
   "name": "python3"
  },
  "language_info": {
   "codemirror_mode": {
    "name": "ipython",
    "version": 3
   },
   "file_extension": ".py",
   "mimetype": "text/x-python",
   "name": "python",
   "nbconvert_exporter": "python",
   "pygments_lexer": "ipython3",
   "version": "3.9.12"
  }
 },
 "nbformat": 4,
 "nbformat_minor": 5
}
