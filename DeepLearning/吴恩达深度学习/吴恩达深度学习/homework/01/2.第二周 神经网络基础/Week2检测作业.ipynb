{
 "cells": [
  {
   "cell_type": "markdown",
   "id": "eb48a603",
   "metadata": {},
   "source": [
    "## 测验作业"
   ]
  },
  {
   "cell_type": "code",
   "execution_count": null,
   "id": "381fa1c7",
   "metadata": {},
   "outputs": [],
   "source": [
    "import numpy as np"
   ]
  },
  {
   "cell_type": "code",
   "execution_count": 6,
   "id": "724b2e46",
   "metadata": {},
   "outputs": [
    {
     "data": {
      "text/plain": [
       "array([[ 1.05337833],\n",
       "       [ 0.33835626],\n",
       "       [ 0.52176529],\n",
       "       ...,\n",
       "       [ 0.91680584],\n",
       "       [-1.3540557 ],\n",
       "       [ 2.41274082]])"
      ]
     },
     "execution_count": 6,
     "metadata": {},
     "output_type": "execute_result"
    }
   ],
   "source": [
    "# 3. img是一个(32,32,3)的数组，具有3个颜色通道：红色、绿色和蓝色的32x32像素图像。如何将其重新转换为列向量？\n",
    "img = np.array(np.random.randn(32, 32, 3))\n",
    "x = img.reshape((32 * 32 * 3, 1))\n",
    "x"
   ]
  },
  {
   "cell_type": "code",
   "execution_count": 10,
   "id": "1bd8d129",
   "metadata": {},
   "outputs": [
    {
     "data": {
      "text/plain": [
       "array([[-1.36967232, -2.28472731, -0.96762693],\n",
       "       [-1.61320935,  1.05671874,  0.33049141]])"
      ]
     },
     "execution_count": 10,
     "metadata": {},
     "output_type": "execute_result"
    }
   ],
   "source": [
    "# 4. 请问以下代码的c数组是几维的？\n",
    "a = np.random.randn(2, 3)\n",
    "b = np.random.randn(2, 1)\n",
    "c = a + b\n",
    "c\n",
    "# c 是一个2 * 3 维的数组，这里采用了广播的机制"
   ]
  },
  {
   "cell_type": "code",
   "execution_count": 19,
   "id": "fbe57249",
   "metadata": {},
   "outputs": [
    {
     "ename": "ValueError",
     "evalue": "operands could not be broadcast together with shapes (4,3) (3,2) ",
     "output_type": "error",
     "traceback": [
      "\u001b[1;31m---------------------------------------------------------------------------\u001b[0m",
      "\u001b[1;31mValueError\u001b[0m                                Traceback (most recent call last)",
      "Input \u001b[1;32mIn [19]\u001b[0m, in \u001b[0;36m<cell line: 4>\u001b[1;34m()\u001b[0m\n\u001b[0;32m      2\u001b[0m a \u001b[38;5;241m=\u001b[39m np\u001b[38;5;241m.\u001b[39mrandom\u001b[38;5;241m.\u001b[39mrandn(\u001b[38;5;241m4\u001b[39m, \u001b[38;5;241m3\u001b[39m)\n\u001b[0;32m      3\u001b[0m b \u001b[38;5;241m=\u001b[39m np\u001b[38;5;241m.\u001b[39mrandom\u001b[38;5;241m.\u001b[39mrandn(\u001b[38;5;241m3\u001b[39m, \u001b[38;5;241m2\u001b[39m)\n\u001b[1;32m----> 4\u001b[0m c \u001b[38;5;241m=\u001b[39m \u001b[43ma\u001b[49m\u001b[43m \u001b[49m\u001b[38;5;241;43m*\u001b[39;49m\u001b[43m \u001b[49m\u001b[43mb\u001b[49m\n\u001b[0;32m      5\u001b[0m c\n",
      "\u001b[1;31mValueError\u001b[0m: operands could not be broadcast together with shapes (4,3) (3,2) "
     ]
    }
   ],
   "source": [
    "# 5. 看下面两个随机数组相乘后维度是多少\n",
    "a = np.random.randn(4, 3)\n",
    "b = np.random.randn(3, 2)\n",
    "c = a * b\n",
    "c\n",
    "# 这样的运算会报错，因为*运算符需要两个矩阵之间的维度形同，按匀速乘法来相乘"
   ]
  },
  {
   "cell_type": "code",
   "execution_count": 21,
   "id": "14e52fa7",
   "metadata": {},
   "outputs": [
    {
     "data": {
      "text/plain": [
       "array([[-26.60532195, -26.03396775, -14.49426498, ...,  -5.17209173,\n",
       "        -13.18009455,   1.45071806],\n",
       "       [ -4.24444292,  14.11690076, -31.5034917 , ...,  16.52925407,\n",
       "        -31.31089193,  -1.97023362],\n",
       "       [-24.87278328,   7.84532877, -21.46309759, ...,  14.82404402,\n",
       "         -1.06258898,   9.05840717],\n",
       "       ...,\n",
       "       [ -4.2381351 ,  13.01532785,  12.58888674, ...,   3.40292301,\n",
       "          7.69888344,   5.64503843],\n",
       "       [  6.74792981,  11.22744947,   1.12223578, ...,  18.08046355,\n",
       "         -6.1302688 ,  10.75865451],\n",
       "       [  5.52265492,  -5.77448813,   6.11803285, ...,  -9.77993977,\n",
       "          1.54967679,   5.85098032]])"
      ]
     },
     "execution_count": 21,
     "metadata": {},
     "output_type": "execute_result"
    }
   ],
   "source": [
    "# 7. 回想 np.dot(a, b)在 a和b上执行矩阵乘法，而 a*b执行元素方式的乘法。\n",
    "a = np.random.randn(12288, 150)\n",
    "b = np.random.randn(150, 45)\n",
    "c = np.dot(a, b)\n",
    "c\n",
    "#  此时的c是12288x45维度的"
   ]
  },
  {
   "cell_type": "code",
   "execution_count": null,
   "id": "f976f3a0",
   "metadata": {},
   "outputs": [],
   "source": []
  },
  {
   "cell_type": "code",
   "execution_count": 27,
   "id": "8f0911fd",
   "metadata": {},
   "outputs": [
    {
     "name": "stdout",
     "output_type": "stream",
     "text": [
      "[[ 0.53910854 -0.34269043 -0.99233688]\n",
      " [ 2.21727047  0.18530932 -0.81300455]\n",
      " [-0.6567717   0.82552466 -0.31779103]]\n",
      "[[0.58319674]\n",
      " [0.16414653]\n",
      " [1.8267553 ]]\n"
     ]
    },
    {
     "data": {
      "text/plain": [
       "array([[ 0.31440634, -0.19985594, -0.57872763],\n",
       "       [ 0.36395725,  0.03041788, -0.13345188],\n",
       "       [-1.19976118,  1.50803154, -0.58052646]])"
      ]
     },
     "execution_count": 27,
     "metadata": {},
     "output_type": "execute_result"
    }
   ],
   "source": [
    "# 9. 看一下下面代码，结果c的维度是什么？\n",
    "a = np.random.randn(3, 3)\n",
    "b = np.random.randn(3, 1)\n",
    "c = a * b\n",
    "c\n",
    "# c 最终的维度为3x3，因为b通过广播变成3*3"
   ]
  },
  {
   "cell_type": "markdown",
   "id": "17de654a",
   "metadata": {},
   "source": [
    "## 编程作业"
   ]
  },
  {
   "cell_type": "code",
   "execution_count": 23,
   "id": "e2cced14",
   "metadata": {},
   "outputs": [
    {
     "data": {
      "text/plain": [
       "array([[-1.35049094,  1.6470698 , -0.27387021,  2.88956639],\n",
       "       [-1.12681352,  0.76864298, -2.07599686,  2.54007515],\n",
       "       [ 0.59512988,  1.42651949, -1.06419343,  2.13373075]])"
      ]
     },
     "execution_count": 23,
     "metadata": {},
     "output_type": "execute_result"
    }
   ],
   "source": [
    "# 8. 看下面的代码如何将该片段向量化\n",
    "a = np.random.randn(3, 4)\n",
    "b = np.random.randn(4, 1)\n",
    "\n",
    "# for i in range(3):\n",
    "#     for j in range(4):\n",
    "#         c[i][j] = a[i][j] + b[i]\n",
    "\n",
    "# Answer:\n",
    "c = a + b.T\n",
    "c"
   ]
  }
 ],
 "metadata": {
  "kernelspec": {
   "display_name": "Python 3 (ipykernel)",
   "language": "python",
   "name": "python3"
  },
  "language_info": {
   "codemirror_mode": {
    "name": "ipython",
    "version": 3
   },
   "file_extension": ".py",
   "mimetype": "text/x-python",
   "name": "python",
   "nbconvert_exporter": "python",
   "pygments_lexer": "ipython3",
   "version": "3.9.12"
  }
 },
 "nbformat": 4,
 "nbformat_minor": 5
}
