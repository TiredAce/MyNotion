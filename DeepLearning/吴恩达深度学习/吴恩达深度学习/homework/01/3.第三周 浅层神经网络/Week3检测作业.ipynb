{
 "cells": [
  {
   "cell_type": "markdown",
   "id": "17163a5b",
   "metadata": {},
   "source": [
    "## 测验作业"
   ]
  },
  {
   "cell_type": "code",
   "execution_count": 2,
   "id": "ef9fd905",
   "metadata": {},
   "outputs": [],
   "source": [
    "import numpy as np"
   ]
  },
  {
   "cell_type": "code",
   "execution_count": 5,
   "id": "8db11183",
   "metadata": {},
   "outputs": [
    {
     "name": "stdout",
     "output_type": "stream",
     "text": [
      "(4, 1)\n",
      "(4,)\n"
     ]
    }
   ],
   "source": [
    "# 5. 看以下代码 B.shape会是什么\n",
    "A = np.random.randn(4, 3)\n",
    "B = np.sum(A, axis = 1, keepdims = True)\n",
    "print(B.shape)\n",
    "\n",
    "B = np.sum(A, axis = 1, keepdims = False)\n",
    "print(B.shape)\n",
    "# 如果将keepdims设置成false，那儿么生成的矩阵是(4,)这样会\n",
    "# 影响广播功能。将它设置为True能让我们的代码更加严格"
   ]
  },
  {
   "cell_type": "markdown",
   "id": "4067c6a2",
   "metadata": {},
   "source": [
    "7. 逻辑回归的权重w应该随机初始化，而不是全零，因为如果初始化为全零，\n",
    "   那么逻辑回归将无法学习到有用的决策边界，因为无法破坏对称性，这是正确的吗？\n",
    "\n",
    "Answer:\n",
    "    False, Logistic回归没有隐藏层。 如果将权重初始化为零，则Logistic回归中的第一个\n",
    "    示例x将输出零，但Logistic回归的导数取决于不是零的输入x（因为没有隐藏层）。\n",
    "    因此，在第二次迭代中，如果x不是常量向量，则权值遵循x的分布并且彼此不同。\n"
   ]
  },
  {
   "cell_type": "markdown",
   "id": "f766d51c",
   "metadata": {},
   "source": [
    "## 编程作业"
   ]
  },
  {
   "cell_type": "code",
   "execution_count": null,
   "id": "01ec8683",
   "metadata": {},
   "outputs": [],
   "source": []
  }
 ],
 "metadata": {
  "kernelspec": {
   "display_name": "Python 3 (ipykernel)",
   "language": "python",
   "name": "python3"
  },
  "language_info": {
   "codemirror_mode": {
    "name": "ipython",
    "version": 3
   },
   "file_extension": ".py",
   "mimetype": "text/x-python",
   "name": "python",
   "nbconvert_exporter": "python",
   "pygments_lexer": "ipython3",
   "version": "3.9.12"
  }
 },
 "nbformat": 4,
 "nbformat_minor": 5
}
