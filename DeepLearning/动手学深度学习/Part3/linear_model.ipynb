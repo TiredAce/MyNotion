{
 "cells": [
  {
   "attachments": {},
   "cell_type": "markdown",
   "metadata": {},
   "source": [
    "# Part3.1 线性回归模型实现"
   ]
  },
  {
   "attachments": {},
   "cell_type": "markdown",
   "metadata": {},
   "source": [
    "#### 3.1.1 生成数据集"
   ]
  },
  {
   "cell_type": "code",
   "execution_count": 32,
   "metadata": {},
   "outputs": [],
   "source": [
    "# 导包\n",
    "import numpy as np\n",
    "import torch\n",
    "from torch.utils import data\n",
    "from d2l import torch as d2l"
   ]
  },
  {
   "cell_type": "code",
   "execution_count": 33,
   "metadata": {},
   "outputs": [],
   "source": [
    "# 模型的真实参数\n",
    "true_w = torch.tensor([2, -3.4])\n",
    "true_b = 4.2\n",
    "featurse, lables = d2l.synthetic_data(true_w, true_b, 1000)"
   ]
  },
  {
   "attachments": {},
   "cell_type": "markdown",
   "metadata": {},
   "source": [
    "#### 3.1.2 读取数据集"
   ]
  },
  {
   "cell_type": "code",
   "execution_count": 34,
   "metadata": {},
   "outputs": [],
   "source": [
    "# 使用框架中现有的API来读取数据\n",
    "def load_array(data_arrays, batch_size, is_train = True):\n",
    "    dataset = data.TensorDataset(*data_arrays)\n",
    "    return data.DataLoader(dataset, batch_size, shuffle=is_train)"
   ]
  },
  {
   "cell_type": "code",
   "execution_count": 35,
   "metadata": {},
   "outputs": [
    {
     "data": {
      "text/plain": [
       "<torch.utils.data.dataloader.DataLoader at 0x121f0c99310>"
      ]
     },
     "execution_count": 35,
     "metadata": {},
     "output_type": "execute_result"
    }
   ],
   "source": [
    "batch_size = 10\n",
    "data_iter = load_array((featurse, lables), batch_size)\n",
    "data_iter"
   ]
  },
  {
   "cell_type": "code",
   "execution_count": 36,
   "metadata": {},
   "outputs": [
    {
     "data": {
      "text/plain": [
       "[tensor([[ 0.0648,  0.2539],\n",
       "         [ 1.1548, -1.0863],\n",
       "         [ 1.1892, -1.6117],\n",
       "         [ 1.9249, -1.1755],\n",
       "         [-0.6474, -1.0942],\n",
       "         [ 0.7170,  1.5887],\n",
       "         [-1.1358, -0.4238],\n",
       "         [-0.8668, -0.0415],\n",
       "         [ 0.7965, -1.3915],\n",
       "         [-0.3698,  0.2504]]),\n",
       " tensor([[ 3.4611],\n",
       "         [10.2035],\n",
       "         [12.0664],\n",
       "         [12.0474],\n",
       "         [ 6.6294],\n",
       "         [ 0.2290],\n",
       "         [ 3.3742],\n",
       "         [ 2.5923],\n",
       "         [10.5213],\n",
       "         [ 2.6167]])]"
      ]
     },
     "execution_count": 36,
     "metadata": {},
     "output_type": "execute_result"
    }
   ],
   "source": [
    "# 要读取数据 需要构造iter构造Python迭代器，并使用next从迭代器中获取\n",
    "next(iter(data_iter))"
   ]
  },
  {
   "attachments": {},
   "cell_type": "markdown",
   "metadata": {},
   "source": [
    "#### 3.1.3 定义模型"
   ]
  },
  {
   "cell_type": "code",
   "execution_count": 37,
   "metadata": {},
   "outputs": [],
   "source": [
    "# nn是神经网络的缩写\n",
    "from torch import nn\n",
    "\n",
    "\"\"\"\n",
    "    定义一个net变量, 它是一个Sequential类的实例\n",
    "    它能将多层串联在一起。\n",
    "    在Pytorch中,全连接层在Linear类中定义,我们将两个参数传递到\n",
    "    nn.Linear中。第一个指定输入特征的形状,第二个指定输出特征形状。\n",
    "    如上创建的数据集,第0层维度为2, 输出层维度为1。\n",
    "\"\"\"\n",
    "net = nn.Sequential(nn.Linear(2, 1))"
   ]
  },
  {
   "attachments": {},
   "cell_type": "markdown",
   "metadata": {},
   "source": [
    "#### 3.1.4 初始化模型参数"
   ]
  },
  {
   "cell_type": "code",
   "execution_count": 38,
   "metadata": {},
   "outputs": [
    {
     "data": {
      "text/plain": [
       "tensor([0.])"
      ]
     },
     "execution_count": 38,
     "metadata": {},
     "output_type": "execute_result"
    }
   ],
   "source": [
    "# 初始化模型参数\n",
    "\"\"\"\n",
    "    通过访问net[0]选择网络中的第一个图层\n",
    "\"\"\"\n",
    "net[0].weight.data.normal_(0, 0.01)\n",
    "net[0].bias.data.fill_(0)"
   ]
  },
  {
   "attachments": {},
   "cell_type": "markdown",
   "metadata": {},
   "source": [
    "#### 3.1.5 定义损失函数"
   ]
  },
  {
   "cell_type": "code",
   "execution_count": 39,
   "metadata": {},
   "outputs": [],
   "source": [
    "# 定义损失函数\n",
    "\n",
    "\"\"\"\n",
    "    计算均方差使用的是MSELoss类,也称为L2范数.\n",
    "\"\"\"\n",
    "loss = nn.MSELoss()"
   ]
  },
  {
   "attachments": {},
   "cell_type": "markdown",
   "metadata": {},
   "source": [
    "#### 3.1.6 定义优化函数"
   ]
  },
  {
   "cell_type": "code",
   "execution_count": 40,
   "metadata": {},
   "outputs": [],
   "source": [
    "# 定义优化算法\n",
    "\n",
    "\"\"\"\n",
    "    Pytorch在optim模块中实现了改算法的许多变种\n",
    "    当实例化一个SGD实例时,指定优化参数(net.parameters())\n",
    "    以及优化算法所需提供的超参数字典.\n",
    "    mini-batch梯度算法只需要设置lr值\n",
    "\"\"\"\n",
    "trainer = torch.optim.SGD(net.parameters(), lr = 0.03)"
   ]
  },
  {
   "attachments": {},
   "cell_type": "markdown",
   "metadata": {},
   "source": [
    "#### 3.1.7 训练"
   ]
  },
  {
   "cell_type": "code",
   "execution_count": 41,
   "metadata": {},
   "outputs": [
    {
     "name": "stdout",
     "output_type": "stream",
     "text": [
      "epoch 1, loss 0.000258\n",
      "epoch 2, loss 0.000099\n",
      "epoch 3, loss 0.000099\n",
      "epoch 4, loss 0.000098\n",
      "epoch 5, loss 0.000099\n",
      "epoch 6, loss 0.000098\n",
      "epoch 7, loss 0.000099\n",
      "epoch 8, loss 0.000098\n",
      "epoch 9, loss 0.000099\n",
      "epoch 10, loss 0.000098\n"
     ]
    }
   ],
   "source": [
    "# 设置迭代次数\n",
    "num_epochs = 10\n",
    "\n",
    "# 外循环遍历迭代次数\n",
    "for epoch in range(num_epochs):\n",
    "    # 内循环mini-batch\n",
    "    for X, y in data_iter:\n",
    "        # 计算损失函数\n",
    "        l = loss(net(X), y)\n",
    "        # 清空梯度缓存，否则后续会累加\n",
    "        trainer.zero_grad()\n",
    "        # 反向传播，求梯度\n",
    "        l.backward()\n",
    "        # 通过调用优化器更新参数\n",
    "        trainer.step()\n",
    "    l = loss(net(featurse), lables)\n",
    "    print(f'epoch {epoch + 1}, loss {l:f}')"
   ]
  },
  {
   "cell_type": "code",
   "execution_count": 42,
   "metadata": {},
   "outputs": [
    {
     "name": "stdout",
     "output_type": "stream",
     "text": [
      "W的估计误差: tensor([8.7500e-05, 5.3072e-04])\n",
      "b的估计误差: tensor([0.0003])\n"
     ]
    }
   ],
   "source": [
    "w = net[0].weight.data\n",
    "# reshape 防止维度不一致\n",
    "print('W的估计误差:', true_w - w.reshape(true_w.shape))\n",
    "\n",
    "b = net[0].bias.data\n",
    "print('b的估计误差:',  true_b - b)"
   ]
  }
 ],
 "metadata": {
  "kernelspec": {
   "display_name": "pytorch",
   "language": "python",
   "name": "python3"
  },
  "language_info": {
   "codemirror_mode": {
    "name": "ipython",
    "version": 3
   },
   "file_extension": ".py",
   "mimetype": "text/x-python",
   "name": "python",
   "nbconvert_exporter": "python",
   "pygments_lexer": "ipython3",
   "version": "3.9.16"
  },
  "orig_nbformat": 4
 },
 "nbformat": 4,
 "nbformat_minor": 2
}
